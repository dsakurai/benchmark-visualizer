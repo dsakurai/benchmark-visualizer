{
 "cells": [
  {
   "cell_type": "code",
   "execution_count": null,
   "metadata": {
    "collapsed": true
   },
   "outputs": [],
   "source": [
    "import pandas as pd\n",
    "\n",
    "from jmetal.algorithm.multiobjective.gde3 import GDE3\n",
    "from jmetal.util.solution import get_non_dominated_solutions\n",
    "from jmetal.util.termination_criterion import StoppingByEvaluations\n",
    "\n",
    "from custom_benchmark_problems.diamon_problem.apis.jmetal import Diamond\n",
    "from custom_benchmark_problems.diamon_problem.data_structures.tree import Tree"
   ]
  },
  {
   "cell_type": "code",
   "execution_count": null,
   "outputs": [],
   "source": [
    "# Set up the tree with dict\n",
    "dim_space = 2\n",
    "tree_data = {\n",
    "    \"nodes\": [\n",
    "        {\"id\": 1, \"minima\": -1, \"symbol\": [1]},\n",
    "        {\"id\": 2, \"minima\": -20.78, \"symbol\": [1, -2, -1]},\n",
    "        {\"id\": 3, \"minima\": -33.75, \"symbol\": [1, -2, 1]},\n",
    "        {\"id\": 4, \"minima\": -31.75, \"symbol\": [1, -2]},\n",
    "    ]\n",
    "}"
   ],
   "metadata": {
    "collapsed": false
   }
  },
  {
   "cell_type": "code",
   "execution_count": null,
   "outputs": [],
   "source": [
    "# Construct the tree from the dict\n",
    "tree = Tree(dim_space=dim_space)\n",
    "tree.from_dict(tree_data=tree_data)\n",
    "\n",
    "# Setup MLflow Tracking, change run_name for identification\n",
    "# If tracking set to False, the experiment will not be logged to server\n",
    "tracking = True\n",
    "tracking_parameters = {\n",
    "    \"run_id\": None,\n",
    "    \"experiment_id\": None,\n",
    "    \"run_name\": \"First Run\",\n",
    "    \"tags\": {\"test_version\": \"0.0.1\"},\n",
    "    \"description\": \"Tracking parameters are not required, but is a Nice-to-have.\"\n",
    "    \" You could fill some of these parameters for identification\",\n",
    "}\n",
    "\n",
    "algorithm_parameters = {\n",
    "    \"algorithm_name\": \"GDE3\",\n",
    "    \"max_evaluations\": 25000,\n",
    "    \"population_size\": 100,\n",
    "    \"cr\":0.5,\n",
    "    \"f\":0.5\n",
    "}\n",
    "\n",
    "# Problem construction, again, tracking_parameters are not required\n",
    "# Please change the experiment name to sth like <name>/<experiment_name>\n",
    "problem = Diamond(\n",
    "    dim_space=dim_space,\n",
    "    sequence_info=tree.to_sequence(),\n",
    "    enable_tracking=tracking,\n",
    "    tracking_uri=\"http://xomics.cc.kyushu-u.ac.jp:5000\",\n",
    "    experiment_name=\"test-user/test-exp\",\n",
    "    tracking_parameters=tracking_parameters,\n",
    "    algorithm_parameters=algorithm_parameters\n",
    ")"
   ],
   "metadata": {
    "collapsed": false
   }
  },
  {
   "cell_type": "code",
   "execution_count": null,
   "outputs": [],
   "source": [
    "# GDE3 as example, change below code to use other algorithms\n",
    "# GDE3 Settings\n",
    "algorithm = GDE3(\n",
    "    problem=problem,\n",
    "    population_size=algorithm_parameters[\"population_size\"],\n",
    "    cr=algorithm_parameters[\"cr\"],\n",
    "    f=algorithm_parameters[\"f\"],\n",
    "    termination_criterion=StoppingByEvaluations(algorithm_parameters[\"max_evaluations\"]),\n",
    ")"
   ],
   "metadata": {
    "collapsed": false
   }
  },
  {
   "cell_type": "code",
   "execution_count": null,
   "outputs": [],
   "source": [
    "# Run solver with problem\n",
    "algorithm.run()"
   ],
   "metadata": {
    "collapsed": false
   }
  },
  {
   "cell_type": "code",
   "execution_count": null,
   "outputs": [],
   "source": [
    "# Get solutions\n",
    "solutions = algorithm.get_result()\n",
    "\n",
    "# Process the results\n",
    "solution_list = []\n",
    "for solution in solutions:\n",
    "    solution_dict = {\"t\": solution.variables[0]}\n",
    "    for i in range(dim_space):\n",
    "        solution_dict[f\"x_{i+1}\"] = solution.variables[i + 1]\n",
    "    solution_dict[\"y_1\"] = solution.objectives[0]\n",
    "    solution_dict[\"y_2\"] = solution.objectives[1]\n",
    "    solution_list.append(solution_dict)\n",
    "\n",
    "# Get all solutions in dataframe form\n",
    "all_solutions = pd.DataFrame(solution_list)"
   ],
   "metadata": {
    "collapsed": false
   }
  },
  {
   "cell_type": "code",
   "execution_count": null,
   "outputs": [],
   "source": [
    "all_solutions"
   ],
   "metadata": {
    "collapsed": false
   }
  },
  {
   "cell_type": "code",
   "execution_count": null,
   "outputs": [],
   "source": [
    "# Get pareto fronts (Non-dominated solutions)\n",
    "fronts = get_non_dominated_solutions(solutions)\n",
    "front_list = []\n",
    "for front in fronts:\n",
    "    front_dict = {\"t\": front.variables[0]}\n",
    "    for i in range(dim_space):\n",
    "        front_dict[f\"x_{i+1}\"] = front.variables[i + 1]\n",
    "    front_dict[\"y_1\"] = front.objectives[0]\n",
    "    front_dict[\"y_2\"] = front.objectives[1]\n",
    "    front_list.append(front_dict)\n",
    "\n",
    "all_fronts = pd.DataFrame(front_list)"
   ],
   "metadata": {
    "collapsed": false
   }
  },
  {
   "cell_type": "code",
   "execution_count": null,
   "outputs": [],
   "source": [
    "all_fronts"
   ],
   "metadata": {
    "collapsed": false
   }
  }
 ],
 "metadata": {
  "kernelspec": {
   "display_name": "Python 3",
   "language": "python",
   "name": "python3"
  },
  "language_info": {
   "codemirror_mode": {
    "name": "ipython",
    "version": 2
   },
   "file_extension": ".py",
   "mimetype": "text/x-python",
   "name": "python",
   "nbconvert_exporter": "python",
   "pygments_lexer": "ipython2",
   "version": "2.7.6"
  }
 },
 "nbformat": 4,
 "nbformat_minor": 0
}
