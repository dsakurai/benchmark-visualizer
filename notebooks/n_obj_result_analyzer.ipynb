{
 "cells": [
  {
   "cell_type": "code",
   "execution_count": 2,
   "id": "initial_id",
   "metadata": {
    "collapsed": true,
    "ExecuteTime": {
     "end_time": "2024-09-17T20:15:10.237588Z",
     "start_time": "2024-09-17T20:15:10.197948Z"
    }
   },
   "outputs": [
    {
     "ename": "ValueError",
     "evalue": "Invalid experiment experiment path",
     "output_type": "error",
     "traceback": [
      "\u001B[1;31m---------------------------------------------------------------------------\u001B[0m",
      "\u001B[1;31mValueError\u001B[0m                                Traceback (most recent call last)",
      "Cell \u001B[1;32mIn[2], line 7\u001B[0m\n\u001B[0;32m      5\u001B[0m pe \u001B[38;5;241m=\u001B[39m PerformanceEvaluator()\n\u001B[0;32m      6\u001B[0m exp_dir \u001B[38;5;241m=\u001B[39m \u001B[38;5;124m\"\u001B[39m\u001B[38;5;124mdata/N-obj-test_v13\u001B[39m\u001B[38;5;124m\"\u001B[39m\n\u001B[1;32m----> 7\u001B[0m exp_info \u001B[38;5;241m=\u001B[39m \u001B[43mparse_exp_log_dir\u001B[49m\u001B[43m(\u001B[49m\u001B[43mexp_dir\u001B[49m\u001B[38;5;241;43m=\u001B[39;49m\u001B[43mexp_dir\u001B[49m\u001B[43m)\u001B[49m\n\u001B[0;32m      8\u001B[0m meta \u001B[38;5;241m=\u001B[39m exp_info[\u001B[38;5;124m\"\u001B[39m\u001B[38;5;124mmeta\u001B[39m\u001B[38;5;124m\"\u001B[39m]\n\u001B[0;32m      9\u001B[0m dimension \u001B[38;5;241m=\u001B[39m meta[\u001B[38;5;124m\"\u001B[39m\u001B[38;5;124mdimension\u001B[39m\u001B[38;5;124m\"\u001B[39m]\n",
      "File \u001B[1;32m~\\PycharmProjects\\benchmark-visualizer\\utils\\file_utils.py:89\u001B[0m, in \u001B[0;36mparse_exp_log_dir\u001B[1;34m(exp_dir)\u001B[0m\n\u001B[0;32m     87\u001B[0m exp_path \u001B[38;5;241m=\u001B[39m Path(exp_dir)\n\u001B[0;32m     88\u001B[0m \u001B[38;5;28;01mif\u001B[39;00m \u001B[38;5;129;01mnot\u001B[39;00m (exp_path\u001B[38;5;241m.\u001B[39mexists() \u001B[38;5;129;01mand\u001B[39;00m exp_path\u001B[38;5;241m.\u001B[39mis_dir()):\n\u001B[1;32m---> 89\u001B[0m     \u001B[38;5;28;01mraise\u001B[39;00m \u001B[38;5;167;01mValueError\u001B[39;00m(\u001B[38;5;124m\"\u001B[39m\u001B[38;5;124mInvalid experiment experiment path\u001B[39m\u001B[38;5;124m\"\u001B[39m)\n\u001B[0;32m     90\u001B[0m subdirectories \u001B[38;5;241m=\u001B[39m [d \u001B[38;5;28;01mfor\u001B[39;00m d \u001B[38;5;129;01min\u001B[39;00m exp_path\u001B[38;5;241m.\u001B[39miterdir() \u001B[38;5;28;01mif\u001B[39;00m d\u001B[38;5;241m.\u001B[39mis_dir()]\n\u001B[0;32m     91\u001B[0m \u001B[38;5;28;01mif\u001B[39;00m subdirectories:\n",
      "\u001B[1;31mValueError\u001B[0m: Invalid experiment experiment path"
     ]
    }
   ],
   "source": [
    "import glob\n",
    "from utils.reference_fronts import ReferenceFronts\n",
    "from utils.file_utils import parse_exp_log_dir, load_n_evaluation_log, parse_meta\n",
    "from utils.performance_evaluator import PerformanceEvaluator\n",
    "\n",
    "exp_dir_pattern = \"../data/N-obj*\"\n",
    "for directory in glob.glob(exp_dir_pattern):\n",
    "    meta_data = parse_meta(exp_dir=directory)"
   ]
  },
  {
   "cell_type": "code",
   "outputs": [],
   "source": [],
   "metadata": {
    "collapsed": false
   },
   "id": "80ba29b92020c38c"
  }
 ],
 "metadata": {
  "kernelspec": {
   "display_name": "Python 3",
   "language": "python",
   "name": "python3"
  },
  "language_info": {
   "codemirror_mode": {
    "name": "ipython",
    "version": 2
   },
   "file_extension": ".py",
   "mimetype": "text/x-python",
   "name": "python",
   "nbconvert_exporter": "python",
   "pygments_lexer": "ipython2",
   "version": "2.7.6"
  }
 },
 "nbformat": 4,
 "nbformat_minor": 5
}
