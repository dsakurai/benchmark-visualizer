{
 "cells": [
  {
   "cell_type": "code",
   "execution_count": 1,
   "metadata": {
    "collapsed": true
   },
   "outputs": [],
   "source": [
    "from utils import file_utils"
   ]
  },
  {
   "cell_type": "code",
   "execution_count": 14,
   "outputs": [],
   "source": [
    "sequence_data = file_utils.read_json_tree(\"sample.json\")"
   ],
   "metadata": {
    "collapsed": false
   }
  },
  {
   "cell_type": "code",
   "execution_count": 24,
   "outputs": [],
   "source": [
    "sequence_dict = {}\n",
    "for node in sequence_data[\"nodes\"]:\n",
    "    sequence_dict[node[\"id\"]] = node"
   ],
   "metadata": {
    "collapsed": false
   }
  },
  {
   "cell_type": "code",
   "execution_count": 25,
   "outputs": [
    {
     "data": {
      "text/plain": "{1: {'id': 1, 'minima': -1, 'symbol': [1]},\n 2: {'id': 2, 'minima': -20.78, 'symbol': [1, -2, -1]},\n 3: {'id': 3, 'minima': -33.75, 'symbol': [1, -2, 1]},\n 4: {'id': 4, 'minima': -31.75, 'symbol': [1, -2]}}"
     },
     "execution_count": 25,
     "metadata": {},
     "output_type": "execute_result"
    }
   ],
   "source": [
    "sequence_dict"
   ],
   "metadata": {
    "collapsed": false
   }
  },
  {
   "cell_type": "code",
   "execution_count": 18,
   "outputs": [],
   "source": [
    "from custom_benchmark_problems.diamon_problem.core import algs"
   ],
   "metadata": {
    "collapsed": false
   }
  },
  {
   "cell_type": "code",
   "execution_count": 20,
   "outputs": [],
   "source": [
    "link_map = {}\n",
    "for link in algs.compute_links(sequence_data):\n",
    "    source_id = link[\"source\"]\n",
    "    if source_id in link_map.keys():\n",
    "        link_map[source_id].append(link[\"target\"])\n",
    "    else:\n",
    "        link_map[source_id] = [link[\"target\"]]"
   ],
   "metadata": {
    "collapsed": false
   }
  },
  {
   "cell_type": "code",
   "execution_count": 21,
   "outputs": [
    {
     "data": {
      "text/plain": "{4: [3, 2], 1: [4], 0: [1]}"
     },
     "execution_count": 21,
     "metadata": {},
     "output_type": "execute_result"
    }
   ],
   "source": [
    "link_map"
   ],
   "metadata": {
    "collapsed": false
   }
  },
  {
   "cell_type": "code",
   "execution_count": 56,
   "outputs": [],
   "source": [
    "def construct(key,maps:dict):\n",
    "    result = []\n",
    "    for sub_key in maps[key]:\n",
    "        if sub_key in maps.keys():\n",
    "            sequence_dict[sub_key][\"children\"] = construct(sub_key,maps)\n",
    "            result.append(sequence_dict[sub_key])\n",
    "        else:\n",
    "            result.append(sequence_dict[sub_key])\n",
    "    return result"
   ],
   "metadata": {
    "collapsed": false
   }
  },
  {
   "cell_type": "code",
   "execution_count": 58,
   "outputs": [
    {
     "data": {
      "text/plain": "[{'id': 3, 'minima': -33.75, 'symbol': [1, -2, 1]},\n {'id': 2, 'minima': -20.78, 'symbol': [1, -2, -1]}]"
     },
     "execution_count": 58,
     "metadata": {},
     "output_type": "execute_result"
    }
   ],
   "source": [
    "construct(4,link_map)"
   ],
   "metadata": {
    "collapsed": false
   }
  },
  {
   "cell_type": "code",
   "execution_count": null,
   "outputs": [],
   "source": [],
   "metadata": {
    "collapsed": false
   }
  }
 ],
 "metadata": {
  "kernelspec": {
   "display_name": "Python 3",
   "language": "python",
   "name": "python3"
  },
  "language_info": {
   "codemirror_mode": {
    "name": "ipython",
    "version": 2
   },
   "file_extension": ".py",
   "mimetype": "text/x-python",
   "name": "python",
   "nbconvert_exporter": "python",
   "pygments_lexer": "ipython2",
   "version": "2.7.6"
  }
 },
 "nbformat": 4,
 "nbformat_minor": 0
}
