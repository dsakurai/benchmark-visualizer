{
 "cells": [
  {
   "cell_type": "code",
   "execution_count": 1,
   "metadata": {
    "collapsed": true
   },
   "outputs": [],
   "source": [
    "import argparse\n",
    "import math\n",
    "\n",
    "from jmetal.algorithm.multiobjective.gde3 import GDE3\n",
    "from jmetal.util.solution import get_non_dominated_solutions\n",
    "from jmetal.util.termination_criterion import StoppingByEvaluations\n",
    "\n",
    "from custom_benchmark_problems.diamon_problem.apis.jmetal import Diamond\n",
    "from custom_benchmark_problems.diamon_problem.data_structures.tree import Tree"
   ]
  },
  {
   "cell_type": "code",
   "execution_count": 2,
   "outputs": [],
   "source": [
    "tree = Tree(dim_space=2)\n",
    "tree.from_json(\"sample.json\")\n",
    "tracking_parameters = {\n",
    "    \"run_id\": None,\n",
    "    \"experiment_id\": None,\n",
    "    \"run_name\": \"First Run\",\n",
    "    \"tags\": {\"test_version\": \"0.0.1\"},\n",
    "    \"description\": \"Tracking parameters are not required, but is a Nice-to-have.\"\n",
    "    \" You could fill some of these parameters for identification\",\n",
    "}"
   ],
   "metadata": {
    "collapsed": false
   }
  },
  {
   "cell_type": "code",
   "execution_count": 3,
   "outputs": [],
   "source": [
    "problem = Diamond(\n",
    "    dim_space=2,\n",
    "    sequence_info=tree.to_sequence(),\n",
    "    enable_tracking=False,\n",
    "    tracking_uri=\"http://xomics.cc.kyushu-u.ac.jp:5000\",\n",
    "    experiment_name=\"test_runx\",\n",
    "    tracking_parameters=tracking_parameters,\n",
    ")"
   ],
   "metadata": {
    "collapsed": false
   }
  },
  {
   "cell_type": "code",
   "execution_count": 5,
   "outputs": [],
   "source": [
    "from custom_benchmark_problems.diamon_problem.core import evaluation"
   ],
   "metadata": {
    "collapsed": false
   }
  },
  {
   "cell_type": "code",
   "execution_count": 6,
   "outputs": [],
   "source": [
    "bmp = evaluation.BMP(sequence_info=tree.to_sequence(),dim_space=2)"
   ],
   "metadata": {
    "collapsed": false
   }
  },
  {
   "cell_type": "code",
   "execution_count": 11,
   "outputs": [
    {
     "data": {
      "text/plain": "array([ 0.53125, -0.125  ])"
     },
     "execution_count": 11,
     "metadata": {},
     "output_type": "execute_result"
    }
   ],
   "source": [
    "bmp.compute_coordinates([1,-2,1])"
   ],
   "metadata": {
    "collapsed": false
   }
  },
  {
   "cell_type": "code",
   "execution_count": 8,
   "outputs": [],
   "source": [
    "import numpy as np"
   ],
   "metadata": {
    "collapsed": false
   }
  },
  {
   "cell_type": "code",
   "execution_count": 22,
   "outputs": [
    {
     "data": {
      "text/plain": "(-9.280776503073437,\n -13.523417190192724,\n 4,\n array([0.0625, 0.0625]),\n [3.0, -16.125])"
     },
     "execution_count": 22,
     "metadata": {},
     "output_type": "execute_result"
    }
   ],
   "source": [
    "bmp.evaluate(np.array([3,0.53125,-0.125]))"
   ],
   "metadata": {
    "collapsed": false
   }
  },
  {
   "cell_type": "code",
   "execution_count": null,
   "outputs": [],
   "source": [],
   "metadata": {
    "collapsed": false
   }
  }
 ],
 "metadata": {
  "kernelspec": {
   "display_name": "Python 3",
   "language": "python",
   "name": "python3"
  },
  "language_info": {
   "codemirror_mode": {
    "name": "ipython",
    "version": 2
   },
   "file_extension": ".py",
   "mimetype": "text/x-python",
   "name": "python",
   "nbconvert_exporter": "python",
   "pygments_lexer": "ipython2",
   "version": "2.7.6"
  }
 },
 "nbformat": 4,
 "nbformat_minor": 0
}
