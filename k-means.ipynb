{
 "cells": [
  {
   "cell_type": "code",
   "execution_count": 4,
   "metadata": {
    "collapsed": true
   },
   "outputs": [],
   "source": [
    "import pandas as pd\n",
    "from sklearn.cluster import KMeans\n",
    "import numpy as np"
   ]
  },
  {
   "cell_type": "code",
   "execution_count": 11,
   "outputs": [],
   "source": [
    "data_csv = \"data/mlflow/424428458709596400/7e8c61caad4243b68aba831a47405afb/artifacts/MOEAD_sample_2_StoppingByEvaluations_2023-03-13T13-09-56.856069.csv\"\n",
    "X_org = pd.read_csv(data_csv, index_col=0)"
   ],
   "metadata": {
    "collapsed": false
   }
  },
  {
   "cell_type": "code",
   "execution_count": 18,
   "outputs": [
    {
     "data": {
      "text/plain": "           t        x1        x2        y1        y2  eval_node_id  \\\n0   0.850303  0.503929  0.388138  0.601255 -0.601255             0   \n1   1.171368 -0.519983  0.900389  0.828282 -0.828282             0   \n2   0.146309 -0.431984  0.596143  0.103456 -0.103456             0   \n3   0.168720  0.104428 -0.265873  0.119303 -0.119303             0   \n4   3.055791 -0.990279  0.906877  2.160770 -2.160770             0   \n5   4.350237 -0.213778 -0.950850  3.076082 -3.076082             0   \n6   3.515489 -0.774510  0.894168  2.485826 -2.485826             0   \n7   1.034738  0.784786  0.421546  0.731671 -0.731671             0   \n8   2.888552 -0.963694 -0.784136  2.042515 -2.042515             0   \n9   4.883712 -0.342388 -0.459854  3.313470 -3.593142             0   \n10  3.697817 -0.375116 -0.058561  2.214300 -3.015202             0   \n11  4.146316  0.630416  0.321335  2.897771 -2.966005             0   \n12  3.785037  0.784186  0.656589  2.676425 -2.676425             0   \n13  2.778643 -0.253583  0.659567  1.903385 -2.026210             0   \n14  0.512022  0.576779 -0.900644  0.362054 -0.362054             0   \n15  4.077945 -0.096810 -0.828613  2.830809 -2.936276             0   \n16  2.311731 -0.770681  0.592002  1.634641 -1.634641             0   \n17  2.938789 -0.962617 -0.214469  2.078038 -2.078038             0   \n18  2.225791 -0.007544  0.047979  0.906026 -2.241718             0   \n19  1.308931 -0.116793 -0.581789  0.712419 -1.138689             0   \n\n   diagonal_length  step     t_org     y_org  \n0                0     0  0.850303  0.000000  \n1                0     1  1.171368  0.000000  \n2                0     2  0.146309  0.000000  \n3                0     3  0.168720  0.000000  \n4                0     4  3.055791  0.000000  \n5                0     5  4.350237  0.000000  \n6                0     6  3.515489  0.000000  \n7                0     7  1.034738  0.000000  \n8                0     8  2.888552  0.000000  \n9        [-1. -1.]     9  4.883712 -0.197758  \n10       [-1. -1.]    10  3.697817 -0.566323  \n11         [1. 1.]    11  4.146316 -0.048249  \n12               0    12  3.785037  0.000000  \n13       [-1.  1.]    13  2.778643 -0.086851  \n14               0    14  0.512022  0.000000  \n15       [-1. -1.]    15  4.077945 -0.074577  \n16               0    16  2.311731  0.000000  \n17               0    17  2.938789  0.000000  \n18       [-1.  1.]    18  2.225791 -0.944477  \n19       [-1. -1.]    19  1.308931 -0.301418  ",
      "text/html": "<div>\n<style scoped>\n    .dataframe tbody tr th:only-of-type {\n        vertical-align: middle;\n    }\n\n    .dataframe tbody tr th {\n        vertical-align: top;\n    }\n\n    .dataframe thead th {\n        text-align: right;\n    }\n</style>\n<table border=\"1\" class=\"dataframe\">\n  <thead>\n    <tr style=\"text-align: right;\">\n      <th></th>\n      <th>t</th>\n      <th>x1</th>\n      <th>x2</th>\n      <th>y1</th>\n      <th>y2</th>\n      <th>eval_node_id</th>\n      <th>diagonal_length</th>\n      <th>step</th>\n      <th>t_org</th>\n      <th>y_org</th>\n    </tr>\n  </thead>\n  <tbody>\n    <tr>\n      <th>0</th>\n      <td>0.850303</td>\n      <td>0.503929</td>\n      <td>0.388138</td>\n      <td>0.601255</td>\n      <td>-0.601255</td>\n      <td>0</td>\n      <td>0</td>\n      <td>0</td>\n      <td>0.850303</td>\n      <td>0.000000</td>\n    </tr>\n    <tr>\n      <th>1</th>\n      <td>1.171368</td>\n      <td>-0.519983</td>\n      <td>0.900389</td>\n      <td>0.828282</td>\n      <td>-0.828282</td>\n      <td>0</td>\n      <td>0</td>\n      <td>1</td>\n      <td>1.171368</td>\n      <td>0.000000</td>\n    </tr>\n    <tr>\n      <th>2</th>\n      <td>0.146309</td>\n      <td>-0.431984</td>\n      <td>0.596143</td>\n      <td>0.103456</td>\n      <td>-0.103456</td>\n      <td>0</td>\n      <td>0</td>\n      <td>2</td>\n      <td>0.146309</td>\n      <td>0.000000</td>\n    </tr>\n    <tr>\n      <th>3</th>\n      <td>0.168720</td>\n      <td>0.104428</td>\n      <td>-0.265873</td>\n      <td>0.119303</td>\n      <td>-0.119303</td>\n      <td>0</td>\n      <td>0</td>\n      <td>3</td>\n      <td>0.168720</td>\n      <td>0.000000</td>\n    </tr>\n    <tr>\n      <th>4</th>\n      <td>3.055791</td>\n      <td>-0.990279</td>\n      <td>0.906877</td>\n      <td>2.160770</td>\n      <td>-2.160770</td>\n      <td>0</td>\n      <td>0</td>\n      <td>4</td>\n      <td>3.055791</td>\n      <td>0.000000</td>\n    </tr>\n    <tr>\n      <th>5</th>\n      <td>4.350237</td>\n      <td>-0.213778</td>\n      <td>-0.950850</td>\n      <td>3.076082</td>\n      <td>-3.076082</td>\n      <td>0</td>\n      <td>0</td>\n      <td>5</td>\n      <td>4.350237</td>\n      <td>0.000000</td>\n    </tr>\n    <tr>\n      <th>6</th>\n      <td>3.515489</td>\n      <td>-0.774510</td>\n      <td>0.894168</td>\n      <td>2.485826</td>\n      <td>-2.485826</td>\n      <td>0</td>\n      <td>0</td>\n      <td>6</td>\n      <td>3.515489</td>\n      <td>0.000000</td>\n    </tr>\n    <tr>\n      <th>7</th>\n      <td>1.034738</td>\n      <td>0.784786</td>\n      <td>0.421546</td>\n      <td>0.731671</td>\n      <td>-0.731671</td>\n      <td>0</td>\n      <td>0</td>\n      <td>7</td>\n      <td>1.034738</td>\n      <td>0.000000</td>\n    </tr>\n    <tr>\n      <th>8</th>\n      <td>2.888552</td>\n      <td>-0.963694</td>\n      <td>-0.784136</td>\n      <td>2.042515</td>\n      <td>-2.042515</td>\n      <td>0</td>\n      <td>0</td>\n      <td>8</td>\n      <td>2.888552</td>\n      <td>0.000000</td>\n    </tr>\n    <tr>\n      <th>9</th>\n      <td>4.883712</td>\n      <td>-0.342388</td>\n      <td>-0.459854</td>\n      <td>3.313470</td>\n      <td>-3.593142</td>\n      <td>0</td>\n      <td>[-1. -1.]</td>\n      <td>9</td>\n      <td>4.883712</td>\n      <td>-0.197758</td>\n    </tr>\n    <tr>\n      <th>10</th>\n      <td>3.697817</td>\n      <td>-0.375116</td>\n      <td>-0.058561</td>\n      <td>2.214300</td>\n      <td>-3.015202</td>\n      <td>0</td>\n      <td>[-1. -1.]</td>\n      <td>10</td>\n      <td>3.697817</td>\n      <td>-0.566323</td>\n    </tr>\n    <tr>\n      <th>11</th>\n      <td>4.146316</td>\n      <td>0.630416</td>\n      <td>0.321335</td>\n      <td>2.897771</td>\n      <td>-2.966005</td>\n      <td>0</td>\n      <td>[1. 1.]</td>\n      <td>11</td>\n      <td>4.146316</td>\n      <td>-0.048249</td>\n    </tr>\n    <tr>\n      <th>12</th>\n      <td>3.785037</td>\n      <td>0.784186</td>\n      <td>0.656589</td>\n      <td>2.676425</td>\n      <td>-2.676425</td>\n      <td>0</td>\n      <td>0</td>\n      <td>12</td>\n      <td>3.785037</td>\n      <td>0.000000</td>\n    </tr>\n    <tr>\n      <th>13</th>\n      <td>2.778643</td>\n      <td>-0.253583</td>\n      <td>0.659567</td>\n      <td>1.903385</td>\n      <td>-2.026210</td>\n      <td>0</td>\n      <td>[-1.  1.]</td>\n      <td>13</td>\n      <td>2.778643</td>\n      <td>-0.086851</td>\n    </tr>\n    <tr>\n      <th>14</th>\n      <td>0.512022</td>\n      <td>0.576779</td>\n      <td>-0.900644</td>\n      <td>0.362054</td>\n      <td>-0.362054</td>\n      <td>0</td>\n      <td>0</td>\n      <td>14</td>\n      <td>0.512022</td>\n      <td>0.000000</td>\n    </tr>\n    <tr>\n      <th>15</th>\n      <td>4.077945</td>\n      <td>-0.096810</td>\n      <td>-0.828613</td>\n      <td>2.830809</td>\n      <td>-2.936276</td>\n      <td>0</td>\n      <td>[-1. -1.]</td>\n      <td>15</td>\n      <td>4.077945</td>\n      <td>-0.074577</td>\n    </tr>\n    <tr>\n      <th>16</th>\n      <td>2.311731</td>\n      <td>-0.770681</td>\n      <td>0.592002</td>\n      <td>1.634641</td>\n      <td>-1.634641</td>\n      <td>0</td>\n      <td>0</td>\n      <td>16</td>\n      <td>2.311731</td>\n      <td>0.000000</td>\n    </tr>\n    <tr>\n      <th>17</th>\n      <td>2.938789</td>\n      <td>-0.962617</td>\n      <td>-0.214469</td>\n      <td>2.078038</td>\n      <td>-2.078038</td>\n      <td>0</td>\n      <td>0</td>\n      <td>17</td>\n      <td>2.938789</td>\n      <td>0.000000</td>\n    </tr>\n    <tr>\n      <th>18</th>\n      <td>2.225791</td>\n      <td>-0.007544</td>\n      <td>0.047979</td>\n      <td>0.906026</td>\n      <td>-2.241718</td>\n      <td>0</td>\n      <td>[-1.  1.]</td>\n      <td>18</td>\n      <td>2.225791</td>\n      <td>-0.944477</td>\n    </tr>\n    <tr>\n      <th>19</th>\n      <td>1.308931</td>\n      <td>-0.116793</td>\n      <td>-0.581789</td>\n      <td>0.712419</td>\n      <td>-1.138689</td>\n      <td>0</td>\n      <td>[-1. -1.]</td>\n      <td>19</td>\n      <td>1.308931</td>\n      <td>-0.301418</td>\n    </tr>\n  </tbody>\n</table>\n</div>"
     },
     "execution_count": 18,
     "metadata": {},
     "output_type": "execute_result"
    }
   ],
   "source": [
    "X_org.head(20)"
   ],
   "metadata": {
    "collapsed": false
   }
  },
  {
   "cell_type": "code",
   "execution_count": 24,
   "outputs": [
    {
     "name": "stderr",
     "output_type": "stream",
     "text": [
      "/Users/conan/opt/anaconda3/envs/benchmark-visualizer/lib/python3.10/site-packages/sklearn/cluster/_kmeans.py:870: FutureWarning: The default value of `n_init` will change from 10 to 'auto' in 1.4. Set the value of `n_init` explicitly to suppress the warning\n",
      "  warnings.warn(\n"
     ]
    },
    {
     "name": "stdout",
     "output_type": "stream",
     "text": [
      "[[ 4.78434532  0.48804712 -0.11597424]\n",
      " [ 0.09782879  0.55531766 -0.6936968 ]\n",
      " [ 4.22992216  0.52068465 -0.12496864]\n",
      " [ 3.32491437  0.46379309 -0.11192415]\n",
      " [ 1.91708751  0.13272669 -0.0166504 ]]\n",
      "[4 4 1 ... 2 2 2]\n"
     ]
    },
    {
     "name": "stderr",
     "output_type": "stream",
     "text": [
      "/Users/conan/opt/anaconda3/envs/benchmark-visualizer/lib/python3.10/site-packages/sklearn/cluster/_kmeans.py:870: FutureWarning: The default value of `n_init` will change from 10 to 'auto' in 1.4. Set the value of `n_init` explicitly to suppress the warning\n",
      "  warnings.warn(\n"
     ]
    },
    {
     "name": "stdout",
     "output_type": "stream",
     "text": [
      "[[-20.3512908  -26.63484901]\n",
      " [  2.44369652  -3.17859091]\n",
      " [-10.74201679 -16.86624295]\n",
      " [ -3.50928435  -9.72043696]\n",
      " [-15.62497178 -21.75191571]]\n",
      "[1 1 1 ... 0 0 1]\n"
     ]
    }
   ],
   "source": [
    "X = X_org[[\"t\",\"x1\",\"x2\"]].values\n",
    "Y = X_org[[\"y1\", \"y2\"]].values\n",
    "\n",
    "# Create a KMeans object with 3 clusters\n",
    "kmeans = KMeans(n_clusters=5)\n",
    "\n",
    "# Fit the data to the KMeans model\n",
    "kmeans.fit(X)\n",
    "\n",
    "# Print the centroids of each cluster\n",
    "print(kmeans.cluster_centers_)\n",
    "print(kmeans.labels_)\n",
    "\n",
    "kmeans_y = KMeans(n_clusters=5)\n",
    "kmeans_y.fit(Y)\n",
    "\n",
    "print(kmeans_y.cluster_centers_)\n",
    "print(kmeans_y.labels_)"
   ],
   "metadata": {
    "collapsed": false
   }
  },
  {
   "cell_type": "code",
   "execution_count": null,
   "outputs": [],
   "source": [],
   "metadata": {
    "collapsed": false
   }
  },
  {
   "cell_type": "code",
   "execution_count": null,
   "outputs": [],
   "source": [],
   "metadata": {
    "collapsed": false,
    "pycharm": {
     "is_executing": true
    }
   }
  }
 ],
 "metadata": {
  "kernelspec": {
   "display_name": "Python 3",
   "language": "python",
   "name": "python3"
  },
  "language_info": {
   "codemirror_mode": {
    "name": "ipython",
    "version": 2
   },
   "file_extension": ".py",
   "mimetype": "text/x-python",
   "name": "python",
   "nbconvert_exporter": "python",
   "pygments_lexer": "ipython2",
   "version": "2.7.6"
  }
 },
 "nbformat": 4,
 "nbformat_minor": 0
}
