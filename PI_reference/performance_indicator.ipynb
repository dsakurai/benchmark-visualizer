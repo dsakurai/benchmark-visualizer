{
 "cells": [
  {
   "cell_type": "code",
   "execution_count": 2,
   "metadata": {},
   "outputs": [],
   "source": [
    "from jmetal.operator import SBXCrossover, PolynomialMutation\n",
    "from jmetal.util.termination_criterion import StoppingByEvaluations\n",
    "from jmetal.lab.visualization.plotting import Plot\n",
    "from jmetal.util.solution import get_non_dominated_solutions\n",
    "from custom_benchmark_problems.diamon_problem.apis.jmetal import Diamond\n",
    "from custom_benchmark_problems.diamon_problem.data_structures.tree import Tree\n",
    "\n",
    "\n",
    "dim_space = 3\n",
    "tree = Tree(dim_space=dim_space)\n",
    "tree.from_json(\"experiment_trees/depth.json\")\n",
    "problem = Diamond(\n",
    "    dim_space=dim_space,\n",
    "    sequence_info=tree.to_sequence(),\n",
    "    enable_tracking=False,\n",
    ")\n",
    "\n",
    "max_evaluations = 25000"
   ]
  },
  {
   "attachments": {},
   "cell_type": "markdown",
   "metadata": {},
   "source": [
    "Local Pareto set の計算"
   ]
  },
  {
   "cell_type": "code",
   "execution_count": null,
   "metadata": {},
   "outputs": [],
   "source": []
  },
  {
   "attachments": {},
   "cell_type": "markdown",
   "metadata": {},
   "source": [
    "NSGA-II"
   ]
  },
  {
   "cell_type": "code",
   "execution_count": 4,
   "metadata": {},
   "outputs": [
    {
     "name": "stdout",
     "output_type": "stream",
     "text": [
      "[<jmetal.core.solution.FloatSolution object at 0x7f34070a5de0>, <jmetal.core.solution.FloatSolution object at 0x7f34070a6da0>, <jmetal.core.solution.FloatSolution object at 0x7f34070a5db0>, <jmetal.core.solution.FloatSolution object at 0x7f34070448e0>, <jmetal.core.solution.FloatSolution object at 0x7f34070f0700>, <jmetal.core.solution.FloatSolution object at 0x7f34070a60e0>, <jmetal.core.solution.FloatSolution object at 0x7f34072e0640>, <jmetal.core.solution.FloatSolution object at 0x7f34070a7ca0>, <jmetal.core.solution.FloatSolution object at 0x7f34070a7760>, <jmetal.core.solution.FloatSolution object at 0x7f34070a6440>, <jmetal.core.solution.FloatSolution object at 0x7f34070a7e80>, <jmetal.core.solution.FloatSolution object at 0x7f34070a7be0>, <jmetal.core.solution.FloatSolution object at 0x7f34070a6500>, <jmetal.core.solution.FloatSolution object at 0x7f34070f0af0>, <jmetal.core.solution.FloatSolution object at 0x7f34070a6b00>, <jmetal.core.solution.FloatSolution object at 0x7f34070a7400>, <jmetal.core.solution.FloatSolution object at 0x7f34070a7ac0>, <jmetal.core.solution.FloatSolution object at 0x7f34070f0a60>, <jmetal.core.solution.FloatSolution object at 0x7f34072e11b0>, <jmetal.core.solution.FloatSolution object at 0x7f34070a5ff0>, <jmetal.core.solution.FloatSolution object at 0x7f34070a7520>, <jmetal.core.solution.FloatSolution object at 0x7f34070447f0>, <jmetal.core.solution.FloatSolution object at 0x7f34072e07c0>, <jmetal.core.solution.FloatSolution object at 0x7f34070a7a00>, <jmetal.core.solution.FloatSolution object at 0x7f34072e0370>, <jmetal.core.solution.FloatSolution object at 0x7f34072e09a0>, <jmetal.core.solution.FloatSolution object at 0x7f34072a7f10>, <jmetal.core.solution.FloatSolution object at 0x7f34070a78e0>, <jmetal.core.solution.FloatSolution object at 0x7f3407075120>, <jmetal.core.solution.FloatSolution object at 0x7f34070a7820>, <jmetal.core.solution.FloatSolution object at 0x7f34072e0760>, <jmetal.core.solution.FloatSolution object at 0x7f34071b3880>, <jmetal.core.solution.FloatSolution object at 0x7f34070a6620>, <jmetal.core.solution.FloatSolution object at 0x7f34070f0880>, <jmetal.core.solution.FloatSolution object at 0x7f34070f0400>, <jmetal.core.solution.FloatSolution object at 0x7f34070a6bc0>, <jmetal.core.solution.FloatSolution object at 0x7f34072e1150>, <jmetal.core.solution.FloatSolution object at 0x7f34072e0820>, <jmetal.core.solution.FloatSolution object at 0x7f34070448b0>, <jmetal.core.solution.FloatSolution object at 0x7f34070a6290>, <jmetal.core.solution.FloatSolution object at 0x7f3407077e20>, <jmetal.core.solution.FloatSolution object at 0x7f34070a6080>, <jmetal.core.solution.FloatSolution object at 0x7f34070f02e0>, <jmetal.core.solution.FloatSolution object at 0x7f34070a6aa0>, <jmetal.core.solution.FloatSolution object at 0x7f34164afc40>, <jmetal.core.solution.FloatSolution object at 0x7f34072e1210>, <jmetal.core.solution.FloatSolution object at 0x7f34072e02e0>, <jmetal.core.solution.FloatSolution object at 0x7f34070a6590>, <jmetal.core.solution.FloatSolution object at 0x7f3407075180>, <jmetal.core.solution.FloatSolution object at 0x7f34164adc30>, <jmetal.core.solution.FloatSolution object at 0x7f34070a7580>, <jmetal.core.solution.FloatSolution object at 0x7f34070a7100>, <jmetal.core.solution.FloatSolution object at 0x7f34070f0a90>, <jmetal.core.solution.FloatSolution object at 0x7f34072e08b0>, <jmetal.core.solution.FloatSolution object at 0x7f34072e0430>, <jmetal.core.solution.FloatSolution object at 0x7f34070a6a40>, <jmetal.core.solution.FloatSolution object at 0x7f34070a6ec0>, <jmetal.core.solution.FloatSolution object at 0x7f34070a5e10>, <jmetal.core.solution.FloatSolution object at 0x7f3407044a00>, <jmetal.core.solution.FloatSolution object at 0x7f34070a63b0>, <jmetal.core.solution.FloatSolution object at 0x7f34070a6560>, <jmetal.core.solution.FloatSolution object at 0x7f34070a65c0>, <jmetal.core.solution.FloatSolution object at 0x7f34070449a0>, <jmetal.core.solution.FloatSolution object at 0x7f34071b3580>, <jmetal.core.solution.FloatSolution object at 0x7f34070a7b20>, <jmetal.core.solution.FloatSolution object at 0x7f34070f0160>, <jmetal.core.solution.FloatSolution object at 0x7f34070a7460>, <jmetal.core.solution.FloatSolution object at 0x7f34070a6f80>, <jmetal.core.solution.FloatSolution object at 0x7f34070a6fe0>, <jmetal.core.solution.FloatSolution object at 0x7f34070a7280>, <jmetal.core.solution.FloatSolution object at 0x7f34070a63e0>, <jmetal.core.solution.FloatSolution object at 0x7f34072e0940>, <jmetal.core.solution.FloatSolution object at 0x7f34070f0520>, <jmetal.core.solution.FloatSolution object at 0x7f34164acc70>, <jmetal.core.solution.FloatSolution object at 0x7f34070a6110>, <jmetal.core.solution.FloatSolution object at 0x7f34070a5fc0>, <jmetal.core.solution.FloatSolution object at 0x7f34070a68f0>, <jmetal.core.solution.FloatSolution object at 0x7f34070a7160>, <jmetal.core.solution.FloatSolution object at 0x7f34070a7700>, <jmetal.core.solution.FloatSolution object at 0x7f34070a5f30>, <jmetal.core.solution.FloatSolution object at 0x7f34164ae140>, <jmetal.core.solution.FloatSolution object at 0x7f34070f0760>, <jmetal.core.solution.FloatSolution object at 0x7f34072a7eb0>, <jmetal.core.solution.FloatSolution object at 0x7f34070a61d0>, <jmetal.core.solution.FloatSolution object at 0x7f34070a7640>, <jmetal.core.solution.FloatSolution object at 0x7f34070a6740>, <jmetal.core.solution.FloatSolution object at 0x7f34164ae3b0>, <jmetal.core.solution.FloatSolution object at 0x7f34070a6f20>, <jmetal.core.solution.FloatSolution object at 0x7f34072e0a00>, <jmetal.core.solution.FloatSolution object at 0x7f34070a7b80>, <jmetal.core.solution.FloatSolution object at 0x7f3407075240>, <jmetal.core.solution.FloatSolution object at 0x7f34070a5ae0>, <jmetal.core.solution.FloatSolution object at 0x7f34070a7d00>, <jmetal.core.solution.FloatSolution object at 0x7f34070a6830>, <jmetal.core.solution.FloatSolution object at 0x7f34070a5ea0>, <jmetal.core.solution.FloatSolution object at 0x7f34070a61a0>]\n"
     ]
    },
    {
     "data": {
      "image/png": "[encoded data removed]",
      "text/plain": [
       "<Figure size 640x480 with 1 Axes>"
      ]
     },
     "metadata": {},
     "output_type": "display_data"
    }
   ],
   "source": [
    "from jmetal.algorithm.multiobjective.nsgaii import NSGAII\n",
    "\n",
    "algorithm = NSGAII(\n",
    "    problem=problem,\n",
    "    population_size=100,\n",
    "    offspring_population_size=100,\n",
    "    mutation=PolynomialMutation(\n",
    "        probability=1.0 / problem.number_of_variables, distribution_index=20\n",
    "    ),\n",
    "    crossover=SBXCrossover(probability=1.0, distribution_index=20),\n",
    "    termination_criterion=StoppingByEvaluations(max_evaluations),\n",
    ")\n",
    "\n",
    "algorithm.run()\n",
    "\n",
    "solutions = algorithm.get_result()\n",
    "\n",
    "front = get_non_dominated_solutions(solutions)\n",
    "\n",
    "plot_front = Plot(title=\"Pareto front approximation\", axis_labels=[\"x\", \"y\"])\n",
    "plot_front.plot(front, label=\"NSGAII\")"
   ]
  },
  {
   "attachments": {},
   "cell_type": "markdown",
   "metadata": {},
   "source": [
    "MOEA/D"
   ]
  },
  {
   "cell_type": "code",
   "execution_count": 8,
   "metadata": {},
   "outputs": [
    {
     "ename": "TypeError",
     "evalue": "MOEAD.__init__() got an unexpected keyword argument 'mating_pool_size'",
     "output_type": "error",
     "traceback": [
      "\u001b[0;31m---------------------------------------------------------------------------\u001b[0m",
      "\u001b[0;31mTypeError\u001b[0m                                 Traceback (most recent call last)",
      "Cell \u001b[0;32mIn[8], line 4\u001b[0m\n\u001b[1;32m      1\u001b[0m \u001b[39mfrom\u001b[39;00m \u001b[39mjmetal\u001b[39;00m\u001b[39m.\u001b[39;00m\u001b[39malgorithm\u001b[39;00m\u001b[39m.\u001b[39;00m\u001b[39mmultiobjective\u001b[39;00m\u001b[39m.\u001b[39;00m\u001b[39mmoead\u001b[39;00m \u001b[39mimport\u001b[39;00m MOEAD\n\u001b[1;32m      2\u001b[0m \u001b[39mfrom\u001b[39;00m \u001b[39mjmetal\u001b[39;00m\u001b[39m.\u001b[39;00m\u001b[39mutil\u001b[39;00m\u001b[39m.\u001b[39;00m\u001b[39maggregative_function\u001b[39;00m \u001b[39mimport\u001b[39;00m Tschebycheff\n\u001b[0;32m----> 4\u001b[0m algorithm \u001b[39m=\u001b[39m MOEAD(\n\u001b[1;32m      5\u001b[0m     problem\u001b[39m=\u001b[39;49mproblem,\n\u001b[1;32m      6\u001b[0m     population_size\u001b[39m=\u001b[39;49m\u001b[39m100\u001b[39;49m,\n\u001b[1;32m      7\u001b[0m     mating_pool_size\u001b[39m=\u001b[39;49m\u001b[39m2\u001b[39;49m,\n\u001b[1;32m      8\u001b[0m     mutation\u001b[39m=\u001b[39;49mPolynomialMutation(probability\u001b[39m=\u001b[39;49m\u001b[39m1.0\u001b[39;49m \u001b[39m/\u001b[39;49m problem\u001b[39m.\u001b[39;49mnumber_of_variables, distribution_index\u001b[39m=\u001b[39;49m\u001b[39m20\u001b[39;49m),\n\u001b[1;32m      9\u001b[0m     crossover\u001b[39m=\u001b[39;49mSBXCrossover(probability\u001b[39m=\u001b[39;49m\u001b[39m1.0\u001b[39;49m, distribution_index\u001b[39m=\u001b[39;49m\u001b[39m20\u001b[39;49m),\n\u001b[1;32m     10\u001b[0m     aggregative_function\u001b[39m=\u001b[39;49mTschebycheff(dimension\u001b[39m=\u001b[39;49mproblem\u001b[39m.\u001b[39;49mnumber_of_objectives),\n\u001b[1;32m     11\u001b[0m     neighbourhood_selection_probability\u001b[39m=\u001b[39;49m\u001b[39m0.9\u001b[39;49m,\n\u001b[1;32m     12\u001b[0m     max_number_of_replaced_solutions\u001b[39m=\u001b[39;49m\u001b[39m2\u001b[39;49m,\n\u001b[1;32m     13\u001b[0m     neighbor_size\u001b[39m=\u001b[39;49m\u001b[39m20\u001b[39;49m,\n\u001b[1;32m     14\u001b[0m     weight_files_path\u001b[39m=\u001b[39;49m\u001b[39m'\u001b[39;49m\u001b[39mresources/MOEAD_weights\u001b[39;49m\u001b[39m'\u001b[39;49m,\n\u001b[1;32m     15\u001b[0m     termination_criterion\u001b[39m=\u001b[39;49mStoppingByEvaluations(max_evaluations)\n\u001b[1;32m     16\u001b[0m )\n\u001b[1;32m     18\u001b[0m algorithm\u001b[39m.\u001b[39mrun()\n\u001b[1;32m     20\u001b[0m solutions \u001b[39m=\u001b[39m algorithm\u001b[39m.\u001b[39mget_result()\n",
      "\u001b[0;31mTypeError\u001b[0m: MOEAD.__init__() got an unexpected keyword argument 'mating_pool_size'"
     ]
    }
   ],
   "source": [
    "from jmetal.algorithm.multiobjective.moead import MOEAD\n",
    "from jmetal.util.aggregative_function import Tschebycheff\n",
    "\n",
    "algorithm = MOEAD(\n",
    "    problem=problem,\n",
    "    population_size=100,\n",
    "    mating_pool_size=2,\n",
    "    mutation=PolynomialMutation(\n",
    "        probability=1.0 / problem.number_of_variables, distribution_index=20\n",
    "    ),\n",
    "    crossover=SBXCrossover(probability=1.0, distribution_index=20),\n",
    "    aggregative_function=Tschebycheff(dimension=problem.number_of_objectives),\n",
    "    neighbourhood_selection_probability=0.9,\n",
    "    max_number_of_replaced_solutions=2,\n",
    "    neighbor_size=20,\n",
    "    weight_files_path=\"resources/MOEAD_weights\",\n",
    "    termination_criterion=StoppingByEvaluations(max_evaluations),\n",
    ")\n",
    "\n",
    "algorithm.run()\n",
    "\n",
    "solutions = algorithm.get_result()\n",
    "\n",
    "front = get_non_dominated_solutions(solutions)\n",
    "\n",
    "plot_front = Plot(title=\"Pareto front approximation\", axis_labels=[\"x\", \"y\"])\n",
    "plot_front.plot(front, label=\"MOEAD\")"
   ]
  },
  {
   "cell_type": "code",
   "execution_count": null,
   "metadata": {},
   "outputs": [],
   "source": [
    "tree = Tree(dim_space=exp_config.dimension)  # treeを定義する、dim_spaceはintのｎ次元です\n",
    "tree.from_json(exp_config.tree_file)  # tree構造ファイルの場所\n",
    "problem = Diamond(\n",
    "    dim_space=exp_config.dimension,\n",
    "    sequence_info=tree.to_sequence(),\n",
    "    enable_tracking=opts.disable_tracking,\n",
    "    tracker=tracker,\n",
    ")  # 問題を定義\n",
    "algorithm = globals()[Algorithms(exp_config.algorithm).name](\n",
    "    problem=problem,\n",
    "    exp_config=exp_config,\n",
    "    parameters=exp_config.algorithm_parameters,\n",
    "    termination_criterion=exp_config.termination_criterion,\n",
    ")  # アルゴリズムを定義、この方法はexp_configから読み込んでですが、cli_main.py#31 の定義方法もできると思います。\n",
    "algorithm.run()  # アルゴリズムを実行"
   ]
  },
  {
   "cell_type": "code",
   "execution_count": 1,
   "metadata": {},
   "outputs": [
    {
     "name": "stdout",
     "output_type": "stream",
     "text": [
      "Node ID: 1, Result: [0.25]\n",
      "Node ID: 2, Result: [ 0.234375 -0.0625    0.      ]\n",
      "Node ID: 3, Result: [ 0.265625 -0.0625    0.      ]\n",
      "Node ID: 4, Result: [ 0.25   -0.0625]\n"
     ]
    }
   ],
   "source": [
    "import json\n",
    "import numpy as np\n",
    "\n",
    "# JSONファイルの読み込み\n",
    "with open(\"experiment_trees/sample.json\", \"r\") as f:\n",
    "    data = json.load(f)\n",
    "\n",
    "# 各ノードのsymbolに対する処理\n",
    "for node in data[\"nodes\"]:\n",
    "    symbol = node[\"symbol\"]\n",
    "    result = np.zeros(len(symbol))\n",
    "\n",
    "    for i, a_i in enumerate(symbol):\n",
    "        e_a_i = np.zeros(len(symbol))\n",
    "        e_a_i[abs(a_i) - 1] = np.sign(a_i)  # a_iの絶対値をインデックスとし、符号に基づいて値を設定\n",
    "        result += (1 / 4 ** (i + 1)) * e_a_i\n",
    "\n",
    "    print(f\"Node ID: {node['id']}, Result: {result}\")"
   ]
  }
 ],
 "metadata": {
  "kernelspec": {
   "display_name": "base",
   "language": "python",
   "name": "python3"
  },
  "language_info": {
   "codemirror_mode": {
    "name": "ipython",
    "version": 3
   },
   "file_extension": ".py",
   "mimetype": "text/x-python",
   "name": "python",
   "nbconvert_exporter": "python",
   "pygments_lexer": "ipython3",
   "version": "3.10.9"
  },
  "orig_nbformat": 4
 },
 "nbformat": 4,
 "nbformat_minor": 2
}
