{
 "cells": [
  {
   "cell_type": "code",
   "execution_count": 1,
   "metadata": {},
   "outputs": [],
   "source": [
    "import pandas as pd\n",
    "from utils.file_utils import read_json_tree"
   ]
  },
  {
   "cell_type": "code",
   "execution_count": 2,
   "metadata": {},
   "outputs": [],
   "source": [
    "def parse_file_path(file_path: str) -> tuple[str,str,int]:\n",
    "    file_name = file_path.split(\"/\")[-1]\n",
    "    info = file_name.split(\"_\")\n",
    "    solver_name = info[0]\n",
    "    tree_name = \"_\".join(info[1:4])\n",
    "    dimension = int(info[4])\n",
    "    return solver_name, tree_name, dimension"
   ]
  },
  {
   "cell_type": "code",
   "execution_count": 3,
   "metadata": {},
   "outputs": [],
   "source": [
    "def restric_range(full_log:pd.DataFrame,population_size:int, staring_generation:int, generation_range:int) -> pd.DataFrame:\n",
    "    starting_index = staring_generation * population_size\n",
    "    ending_index = starting_index + generation_range * population_size\n",
    "    stat_series = full_log.iloc[starting_index:ending_index].groupby(\"eval_node_id\").size()\n",
    "    return stat_series.to_frame(name=\"count\").reset_index()\n"
   ]
  },
  {
   "cell_type": "code",
   "execution_count": 4,
   "metadata": {},
   "outputs": [],
   "source": [
    "file_path = \"/local/pareto_benchmark/benchmark-visualizer/data/pop100_50000iter/exp_csvs/NSGAII_breadth_base_1_3_StoppingByEvaluations_2023-03-22T10-51-30.914512.csv\"\n",
    "solver_name, tree_name, dimension = parse_file_path(file_path=file_path)\n",
    "tree = read_json_tree(\"experiment_trees/\"+tree_name+\".json\")\n",
    "tree[\"nodes\"].append({\"id\": 0, \"minima\": -1.0, \"symbol\": []})\n",
    "tree = pd.DataFrame(tree[\"nodes\"])"
   ]
  },
  {
   "cell_type": "code",
   "execution_count": 5,
   "metadata": {},
   "outputs": [],
   "source": [
    "eval_log = pd.read_csv(file_path, index_col=0)[[\"t\", \"y1\", \"y2\", \"eval_node_id\", \"diagonal_length\", \"step\", \"t_org\", \"y_org\"]]\n",
    "eval_log.sort_values(by=\"step\", ascending=True,inplace=True)\n",
    "eval_log.reset_index(inplace=True,drop=True)"
   ]
  },
  {
   "cell_type": "code",
   "execution_count": 6,
   "metadata": {},
   "outputs": [],
   "source": [
    "population_size = 100\n",
    "starting_generation = 0\n",
    "generation_range = 500\n",
    "stat_series = restric_range(full_log=eval_log,population_size=population_size,staring_generation=starting_generation,generation_range=generation_range)\n",
    "histo = pd.merge(tree, stat_series, how=\"inner\", left_on=\"id\",right_on=\"eval_node_id\")\n",
    "histo = histo.sort_values(by=\"id\").reset_index(drop=True)"
   ]
  },
  {
   "cell_type": "code",
   "execution_count": 7,
   "metadata": {},
   "outputs": [
    {
     "data": {
      "text/html": [
       "<div>\n",
       "<style scoped>\n",
       "    .dataframe tbody tr th:only-of-type {\n",
       "        vertical-align: middle;\n",
       "    }\n",
       "\n",
       "    .dataframe tbody tr th {\n",
       "        vertical-align: top;\n",
       "    }\n",
       "\n",
       "    .dataframe thead th {\n",
       "        text-align: right;\n",
       "    }\n",
       "</style>\n",
       "<table border=\"1\" class=\"dataframe\">\n",
       "  <thead>\n",
       "    <tr style=\"text-align: right;\">\n",
       "      <th></th>\n",
       "      <th>id</th>\n",
       "      <th>minima</th>\n",
       "      <th>symbol</th>\n",
       "      <th>eval_node_id</th>\n",
       "      <th>count</th>\n",
       "    </tr>\n",
       "  </thead>\n",
       "  <tbody>\n",
       "    <tr>\n",
       "      <th>0</th>\n",
       "      <td>0</td>\n",
       "      <td>-1.0</td>\n",
       "      <td>[]</td>\n",
       "      <td>0</td>\n",
       "      <td>10488</td>\n",
       "    </tr>\n",
       "    <tr>\n",
       "      <th>1</th>\n",
       "      <td>2</td>\n",
       "      <td>-2.1</td>\n",
       "      <td>[-1]</td>\n",
       "      <td>2</td>\n",
       "      <td>1</td>\n",
       "    </tr>\n",
       "    <tr>\n",
       "      <th>2</th>\n",
       "      <td>3</td>\n",
       "      <td>-2.2</td>\n",
       "      <td>[2]</td>\n",
       "      <td>3</td>\n",
       "      <td>4</td>\n",
       "    </tr>\n",
       "    <tr>\n",
       "      <th>3</th>\n",
       "      <td>4</td>\n",
       "      <td>-2.3</td>\n",
       "      <td>[-2]</td>\n",
       "      <td>4</td>\n",
       "      <td>39507</td>\n",
       "    </tr>\n",
       "  </tbody>\n",
       "</table>\n",
       "</div>"
      ],
      "text/plain": [
       "   id  minima symbol  eval_node_id  count\n",
       "0   0    -1.0     []             0  10488\n",
       "1   2    -2.1   [-1]             2      1\n",
       "2   3    -2.2    [2]             3      4\n",
       "3   4    -2.3   [-2]             4  39507"
      ]
     },
     "execution_count": 7,
     "metadata": {},
     "output_type": "execute_result"
    }
   ],
   "source": [
    "histo"
   ]
  },
  {
   "cell_type": "code",
   "execution_count": null,
   "metadata": {},
   "outputs": [],
   "source": []
  }
 ],
 "metadata": {
  "kernelspec": {
   "display_name": "benchmark-visualizer",
   "language": "python",
   "name": "python3"
  },
  "language_info": {
   "codemirror_mode": {
    "name": "ipython",
    "version": 3
   },
   "file_extension": ".py",
   "mimetype": "text/x-python",
   "name": "python",
   "nbconvert_exporter": "python",
   "pygments_lexer": "ipython3",
   "version": "3.10.9"
  },
  "orig_nbformat": 4
 },
 "nbformat": 4,
 "nbformat_minor": 2
}
