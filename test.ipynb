{
 "cells": [
  {
   "cell_type": "code",
   "execution_count": 2,
   "id": "initial_id",
   "metadata": {
    "collapsed": true,
    "ExecuteTime": {
     "end_time": "2024-05-07T03:09:57.341013Z",
     "start_time": "2024-05-07T03:09:57.334696Z"
    }
   },
   "outputs": [],
   "source": [
    "from custom_benchmark_problems.diamon_problem.core.evaluation import BMP\n",
    "from custom_benchmark_problems.diamon_problem.data_structures.tree import Tree\n",
    "import numpy as np\n",
    "\n",
    "\n",
    "dimension = 2\n",
    "tree = Tree(dim_space=dimension)\n",
    "tree.from_json(\"simplest_tree.json\")\n",
    "bmp = BMP(sequence_info=tree.to_sequence(), dim_space=dimension, rotate=False)"
   ]
  },
  {
   "cell_type": "code",
   "outputs": [
    {
     "name": "stdout",
     "output_type": "stream",
     "text": [
      "EvaluationResult(t=2.3, y=-0.29700000000000004, node_id=0, diagonal_length=array([-1.,  1.]), unrotated_value=[2.3, -0.29700000000000004])\n"
     ]
    }
   ],
   "source": [
    "print(bmp.evaluate(np.array([2.3, -0.698, 0.005], dtype=\"float64\")))"
   ],
   "metadata": {
    "collapsed": false,
    "ExecuteTime": {
     "end_time": "2024-05-07T03:10:33.110964Z",
     "start_time": "2024-05-07T03:10:33.094473Z"
    }
   },
   "id": "534f84f22a06b502",
   "execution_count": 3
  },
  {
   "cell_type": "code",
   "outputs": [],
   "source": [],
   "metadata": {
    "collapsed": false
   },
   "id": "9983855e525652d0"
  }
 ],
 "metadata": {
  "kernelspec": {
   "display_name": "Python 3",
   "language": "python",
   "name": "python3"
  },
  "language_info": {
   "codemirror_mode": {
    "name": "ipython",
    "version": 2
   },
   "file_extension": ".py",
   "mimetype": "text/x-python",
   "name": "python",
   "nbconvert_exporter": "python",
   "pygments_lexer": "ipython2",
   "version": "2.7.6"
  }
 },
 "nbformat": 4,
 "nbformat_minor": 5
}
